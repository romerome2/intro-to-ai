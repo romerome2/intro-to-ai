{
 "cells": [
  {
   "cell_type": "code",
   "execution_count": 1,
   "metadata": {},
   "outputs": [],
   "source": [
    "import gpt_2_simple as gpt2\n"
   ]
  },
  {
   "cell_type": "code",
   "execution_count": 2,
   "metadata": {},
   "outputs": [],
   "source": [
    "session = gpt2.start_tf_sess()"
   ]
  },
  {
   "cell_type": "code",
   "execution_count": 3,
   "metadata": {},
   "outputs": [
    {
     "name": "stderr",
     "output_type": "stream",
     "text": [
      "2023-12-19 10:40:19.634550: I tensorflow/compiler/mlir/mlir_graph_optimization_pass.cc:388] MLIR V1 optimization pass is not enabled\n"
     ]
    },
    {
     "name": "stdout",
     "output_type": "stream",
     "text": [
      "Loading checkpoint checkpoint/Steam/model-10\n",
      "INFO:tensorflow:Restoring parameters from checkpoint/Steam/model-10\n",
      "Loading dataset...\n"
     ]
    },
    {
     "name": "stderr",
     "output_type": "stream",
     "text": [
      "100%|██████████| 1/1 [00:00<00:00, 1136.36it/s]"
     ]
    },
    {
     "name": "stdout",
     "output_type": "stream",
     "text": [
      "dataset has 1693 tokens\n",
      "Training...\n"
     ]
    },
    {
     "name": "stderr",
     "output_type": "stream",
     "text": [
      "\n"
     ]
    },
    {
     "name": "stdout",
     "output_type": "stream",
     "text": [
      "[11 | 18.31] loss=0.51 avg=0.51\n",
      "Saving checkpoint/Steam/model-11\n"
     ]
    }
   ],
   "source": [
    "gpt2.finetune(session, \"Thing.txt\",model_name=\"124M\",steps=1, run_name='Steam')"
   ]
  },
  {
   "cell_type": "code",
   "execution_count": 4,
   "metadata": {},
   "outputs": [
    {
     "name": "stdout",
     "output_type": "stream",
     "text": [
      "Can Grade 11/12 students apply to the Brooklyn STEAM Center? \n",
      "\n",
      "No, we believe in offering students the best possible learning experience. We believe that students should have a determined pathway to success and that is why we conduct a rigorous program of peer support in order to provide students with the skills they need to stand out as an outstanding student, scholar, or entrepreneur.\n",
      "\n",
      "How can I be certain that I did not do certain:\n",
      "\n",
      "(A) Harmful Behaviors(B) in the Past 5 Years(C) in the Future?\n",
      "\n",
      "Although we believe that students should have a set of own path-specific requirements, in some cases the same process may apply.\n",
      "\n",
      "For example, an analysis of how the Foreign Student Aid Program affects my future may help.\n",
      "\n",
      "Does the Foreign Student Aid Program impact my decision-making process?\n",
      "\n",
      "No. The Foreign Student Aid Program (FSA) is designed to provide assistance to the nation's most successful high school graduates as quickly as possible. However, we do have several limitations that may impact your decision-making process.\n",
      "\n",
      "How can I find a position that is based on the Foreign Student Aid Program?\n",
      "\n",
      "There are a limited number of available training programs that can be used toward an interested applicant's STEM education certificate. How can I find a particular location that is based on the Foreign Student Aid Program?\n",
      "\n",
      "This can be a challenging decision, but we have several actions that can be taken to ensure that your decision is made with confidence. What should I look for in a training partner?\n",
      "\n",
      "To find out more, I recommend our XCStart search. When can I apply to for a position?\n",
      "\n",
      "Saskatchewan only has a five-day window for an application to be accepted. How long does the Non-Discriminatory Harness Policy leave my permanent residence?\n",
      "\n",
      "The Non-Discriminatory Harness Policy remains in place for as long as I need it to, which includes the date on which I want to submit the information (e.g., when, how long, how much, what), how much, when to, when, when/how_when, how_to, aprox, and how.\n",
      "\n",
      "How can I apply to the Foreign Student Aid Program for a project?\n",
      "\n",
      "Saskatchewan's Center for Education for Women & Girls is a nonprofit. How do I apply?\n",
      "\n",
      "Directed! The Undue Revitalization of the Work Opportunity Model (WRO) WBEA is an initiative of the Council of the City of New York. How can I formally request an undated PowerPoint deck, copy, or a document for this purpose?\n",
      "\n",
      "The Undue Revitalization of the Work Opportunity Model (WRO) WBEA is an initiative of the Council of the City of New York. How does the Undue Revitalization of the Work Opportunity Model (WRO) PREVIEW / REVIEW/TO: Designate the Urban Design Mountain/Lakefront/Plymouth Area as Your CCWW Area?\n",
      "\n",
      "Responsibilities\n",
      "\n",
      "The Undue Revitalization of the Work Opportunity Model (WRO) WBEA is designed to meet the Nation's Capitalist·Growth Reimbursement model (CRM) : Percentage of Total Gross Domestic Product (GDP) → Percentage of GDP Growth Rate (GDP) → Number of Hours worked → Number of Hours in the Employment Situation Year : The WBEA's purpose. What does this mean?\n",
      "\n",
      ": The WBEA's purpose. What does this mean? Preference : I want toally (e.g.,ly) identified the Undue Revitalized WBEA for the specific need.)\n",
      "\n",
      ": I want to refer a prior independent scholar (F) to the Undue Revitalized WBEA\n",
      "\n",
      ": I want to identify a New York City-assisted Ruraleque Education option.\n",
      "\n",
      ": Q&A: / or : / : / : / : : / : / : / : / : / : / : / : / : / : / : / : / : / : / : : / / : / : / / : / / : / / / / / / / / / / / / / / / / / / / / / / / / / / / / / / / / / / / / / / / / / / / / / / / / / / / / / / / / / / / / / / / / / / / / / / / / / / / / / / / / / / / / / / / / / / / / / / / / / / / / / / / / / / / / / / / / / / / / / / / / / / / / / / / / / / / / / / / / / / / / / / / / / / / / / / / / / /\n"
     ]
    }
   ],
   "source": [
    "gpt2.generate(session, prefix=\"Can Grade 11/12 students apply to the Brooklyn STEAM Center? \")"
   ]
  },
  {
   "cell_type": "code",
   "execution_count": 5,
   "metadata": {},
   "outputs": [
    {
     "name": "stdout",
     "output_type": "stream",
     "text": [
      "Is there a fee for these explorations? \n",
      "A. The funds used to complete these explorations will be used to expand the Center for Graduate Education, as well as to support the Center's mission of providing highly motivated scholars with a pathway into the workforce. The amount of the ․Funds ‘ used for these explorations is solely derived from an active application process, and is provided as a courtesy to scholars when being used for purposes such as this\"}],\"is\"\":false,\"featured_image_id\":317,\"attributes\":null,\"thumbnail_id\":29,\"height\":240,\"width\":647,\"class\":null,\"tags\":[},{\",\",\",\",\",\",\",\",\",\",\",\",\",\",\",\",\",\",\",\",\",\",\",\",\",\",\",\",\",\",\"],\",\",\",\",\",\",\",\"],\",\",\",\",\",\"],\",\"],\",\"],\",\"],\",\"),}],\"500,\"name\":\"Academics in the Workplace\",\"type\":\"application/x-www-\\\")},},\"17003\":{,\"vested\":false,\"attributes\":null,\"thumbnail_id\":30,\"height\":240,\"width\":647,\"class\":null,\"tags\":[],\",\",\",\",\",\",\",\",\",\",\",\",\",\",\",\",\",\",\",\",\",\",\",\",\",\",\",\",\",\",\",\"],,\",\",\",\",\",\",\",\",\",\",\",\"],\"],\",\",\",\",\",\",\",\"],\"],\",\",\",\",\",\",\",\",\",\",\",\",\",\",\",\",\",\",\",\",\"],),}],\"500,\"name\":\"How High Can I Do This Work?\",\"type\":\"application/x-www-\\\")}], \"siteLocale\":\"global\",\"is_self\":\"No\"},\"22806\":[],\"id\":17003,\"name\":\"The New York Public Library\",\"website\":null,\"author_link_url\":\"https://www.nypl.gov/homes/greg-bumbles/bluespatch-library-bluespatch-bluespatch-bluespatch-bluespatch-bluespatch-bluespatch-bluespatch-bluespatch-bluespatch\",\"content_url\":\"https://www.nypl.gov/homes/greg-bumbles/bluespatch/bluespatch\",\"is_url\":\"https://www.nypl.gov/homes/greg-bumbles/\",\"thumbnail_url\":\"https://img.nypl.gov/vi/yL58sDjrAAMWxz8J9/4G/HG5YjMjQ/Classics%20for%20Library%20150206/\",\"width\":500,\"height\":500,\"src\":\"https://cdn.nypl.gov/media/1uX5Oy5x0X4B5D6eXNXR/5B0/about_the_branding_reinvented/\",\"type\":\"photo\",\"large_image_url\":\"https://img.nypl.gov/vi/yL58sDjrAAMWxz8J9/4G/HG5YjMjQ/Classics%20for%20Library%20150206/\",\"small_image_url\":\"https://img.nypl.gov/vi/yL58sDjrAAMWxz8J9/4G/HG5YjMjQ/Classics%20for%20Library%20150206/\",\"medium_image_url\":\"https://img.nypl.gov/vi/yL58sDjrAAMWxz8J9/4G/HG5YjMjQ/Classics%20for%20Library%20150206/\",\"large_small_image_url\":\"https://img.nypl.gov/vi/yL58sDjrAAMWxz8J9/4G/HG5YjMjQ/Classics%20for%20Library%20150206/\",\"large_medium_image_url\":\"https://img.nypl.gov/vi/yL58sDjrAAMWxz8J9/4G/HG5YjMjQ/Classics%20for%20Library%20150206/\",\"square_image_url\":\"https://img.nypl.gov/vi/yL58sDjrAAMWxz8J9/5B/hardcover_rg_14x12\"},\"status\":\"verified\",\"status_page\":{\"is_in_reply_id\":57,\"is_mobile\":false,\"is_mobile_device\":false,\"is_mobile_app\":false,\"is_authoring\":false,\"is_view\n"
     ]
    }
   ],
   "source": [
    "gpt2.generate(session, prefix=\"Is there a fee for these explorations? \")"
   ]
  },
  {
   "cell_type": "code",
   "execution_count": 6,
   "metadata": {},
   "outputs": [
    {
     "name": "stdout",
     "output_type": "stream",
     "text": [
      "Do you do tours? .\")\n",
      "\n",
      "Answer: No. We offer free Wi-Fi for all guests, no minimum of 5 users. For more information, please call us at 800-358-5818 or email info@stewartwaterfrontiers.com.\n",
      "\n",
      "How does this impact my school year?\n",
      "\n",
      "Answer: Students in our program spend two to five days a week with us, in addition to the day trip. Our programs are designed to meet the needs of different education periods.\n",
      "\n",
      "Do I need to be at least 18 years old to be accepted?\n",
      "\n",
      "A: Yes. You may be able to apply for a special education loan if you are a student and are able to provide us with information about our programs and assistance programs.\n",
      "\n",
      "Do grades matter?\n",
      "\n",
      "Answer: No. We accept all grades.\n",
      "\n",
      "Can grades have different words for different words?\n",
      "\n",
      "Answer: We believe that students learn by being able to learn. We believe that students are professionals by giving them a voice. We believe that all students deserve a chance to make a difference.\n",
      "\n",
      "How can I find more than one parent/guardian/guardian/step-parent/guardian?\n",
      "\n",
      "Answer: We accept application forms, which may contain up to 2 as many as you desire. Please see the Supporting Information for more information.\n",
      "\n",
      "I want to establish a working relationship with these paths/engagements/adoptions/agreements/strategies/requirements/…\n",
      "\n",
      "Where can I find more information?\n",
      "\n",
      "Answer: We currently have no available information about and, as a first step, may require further clarification,, may require consent, public spaces such as the Promenade Gently Signed Map Canvas, E-Learning Programs, and Geographic Information Systems Consent Forms can provide reassurance to CU-OS students that they have been identified as being in the targeted distribution phase of theenthal study Aging Guidelines and Acceptance Policy Offering an affirmative/substantial portion of any fees are used to assist the CU-OS school in maintaining on-going tuition costs while maintaining the rights and privileges afforded to all students\n",
      "\n",
      "What is the grade-reformatting process for an \"A\"?\n",
      "\n",
      "Answer: A \"reformat\" is when a portion of an application or other document is reduced or eliminated to the minimum necessary to be considered a 'B' for any designation (e.g., an \"A\" means the student's grade was \"A\"), and/or the following portions have been designated as being no more than 'A':,\"Not Applicable,\" –all grades are in UCSB) and,\" –the change-out date (on or about the final form should be designated accordingly).\"\n",
      "\n",
      "How can I find the grade-separated I.D. for an \"A\" specific to a specific person/thing?\n",
      "\n",
      "Answer: The \"A\" name for this \"reformat\" is run by the university and may only be used for the purposes stated within the specific provision of this policy.\n",
      "\n",
      "How can I determine whether or not an \"A\" refers to the student, their school, or another entity?\n",
      "\n",
      "Answer: The \"A\" name for this \"reformat\" is the \"Grade A\" designation and may only be used by the university as a guideline and/or as a means of identifying the school as the primary source for the grade.\"\n",
      "\n",
      "How can I determine whether or not an \"A\" refers to the state of the art?\n",
      "\n",
      "Answer: The \"A\" name for this \"reformat\" is the \"S\" designation and may only be used by the university as a first step.\"\n",
      "\n",
      "This does not necessarily means that my grade was an \"A\" or not, I.D. is only for the purposes specified and should be interpreted as such\n",
      "\n",
      "How can I determine how high a student's GPA or certain requirements are?\n",
      "\n",
      "Answer: The \"A\" name for this \"reformat\" is the \"B\" designation and may only be used by the university as a first step.\"\n",
      "\n",
      "Do grade points count?\n",
      "\n",
      "Answer: Yes. The \"A\" and \"B\" grades are based on an \"A\" grade is the grade and reverse transcript option is selected).\n",
      "\n",
      "Can grades of A & A-only be withheld from an \"A\" grade?\n",
      "\n",
      "Answer: Yes, the \"A\" and \"B\" grades are A grades and/or are otherwise subject to change without prior written consent.\n",
      "\n",
      "My grade was in the \"below\" acceptable amount. \"–Wilmington\"/\"–USA\" may not be the appropriate grade.\"–How?\".\"\n",
      "\n",
      "This does not affect claims for: uphill climbing graduation\" – This award is not available to single or partnered candidates.\"–/\n",
      "\n",
      "–––\n",
      "\n",
      "About the Author Jamie Wright is the Executive Director of the School of Engineering & Applied Sciences and the Associate Director of the\n"
     ]
    }
   ],
   "source": [
    "gpt2.generate(session, prefix=\"Do you do tours? \")"
   ]
  }
 ],
 "metadata": {
  "kernelspec": {
   "display_name": "Python 3",
   "language": "python",
   "name": "python3"
  },
  "language_info": {
   "codemirror_mode": {
    "name": "ipython",
    "version": 3
   },
   "file_extension": ".py",
   "mimetype": "text/x-python",
   "name": "python",
   "nbconvert_exporter": "python",
   "pygments_lexer": "ipython3",
   "version": "3.10.9"
  },
  "orig_nbformat": 4,
  "vscode": {
   "interpreter": {
    "hash": "b0fa6594d8f4cbf19f97940f81e996739fb7646882a419484c72d19e05852a7e"
   }
  }
 },
 "nbformat": 4,
 "nbformat_minor": 2
}
