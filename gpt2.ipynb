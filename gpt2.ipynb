{
 "cells": [
  {
   "cell_type": "code",
   "execution_count": 4,
   "metadata": {},
   "outputs": [],
   "source": [
    "import gpt_2_simple as gpt2"
   ]
  },
  {
   "cell_type": "code",
   "execution_count": 5,
   "metadata": {},
   "outputs": [
    {
     "name": "stderr",
     "output_type": "stream",
     "text": [
      "Fetching checkpoint: 1.05Mit [00:00, 6.21Git/s]                                                     \n",
      "Fetching encoder.json: 1.05Mit [00:00, 2.03Mit/s]                                                   \n",
      "Fetching hparams.json: 1.05Mit [00:00, 13.7Git/s]                                                   \n",
      "Fetching model.ckpt.data-00000-of-00001: 498Mit [02:20, 3.56Mit/s]                                  \n",
      "Fetching model.ckpt.index: 1.05Mit [00:00, 3.30Git/s]                                               \n",
      "Fetching model.ckpt.meta: 1.05Mit [00:00, 3.25Mit/s]                                                \n",
      "Fetching vocab.bpe: 1.05Mit [00:00, 1.94Mit/s]                                                      \n"
     ]
    }
   ],
   "source": [
    "#gpt2.download_gpt2(model_name='124M')"
   ]
  },
  {
   "cell_type": "code",
   "execution_count": 8,
   "metadata": {},
   "outputs": [],
   "source": [
    "session = gpt2.start_tf_sess()\n"
   ]
  },
  {
   "cell_type": "code",
   "execution_count": 9,
   "metadata": {},
   "outputs": [
    {
     "name": "stderr",
     "output_type": "stream",
     "text": [
      "2023-12-14 09:53:38.668639: I tensorflow/compiler/mlir/mlir_graph_optimization_pass.cc:388] MLIR V1 optimization pass is not enabled\n"
     ]
    },
    {
     "name": "stdout",
     "output_type": "stream",
     "text": [
      "Loading checkpoint models/124M/model.ckpt\n",
      "INFO:tensorflow:Restoring parameters from models/124M/model.ckpt\n",
      "Loading dataset...\n"
     ]
    },
    {
     "name": "stderr",
     "output_type": "stream",
     "text": [
      "100%|██████████| 1/1 [00:00<00:00,  1.44it/s]\n"
     ]
    },
    {
     "name": "stdout",
     "output_type": "stream",
     "text": [
      "dataset has 338024 tokens\n",
      "Training...\n",
      "[1 | 18.75] loss=4.11 avg=4.11\n",
      "[2 | 37.66] loss=4.02 avg=4.06\n",
      "[3 | 55.33] loss=3.75 avg=3.96\n",
      "[4 | 73.05] loss=3.82 avg=3.93\n",
      "[5 | 91.35] loss=3.81 avg=3.90\n",
      "Saving checkpoint/run1/model-5\n"
     ]
    }
   ],
   "source": [
    "gpt2.finetune(session, \"shakespare.txt\",model_name=\"124M\",steps=5)"
   ]
  },
  {
   "cell_type": "code",
   "execution_count": 10,
   "metadata": {},
   "outputs": [
    {
     "name": "stdout",
     "output_type": "stream",
     "text": [
      "Jerome:thou shall not pass from thy bar\n",
      "\n",
      "Jerome:thou shall not pass through thy ne'er\n",
      "Jerome:thou shall not pass\n",
      "Jerome:thou shall not pass\n",
      "Jerome:thou shall not pass\n",
      "Jerome:thou shall not pass\n",
      "Jerome:thou shall not pass\n",
      "Jerome:thou shall not pass\n",
      "Jerome:thou shall not pass\n",
      "Jerome:thou shall not pass\n",
      "Jerome:thou shall not pass\n",
      "\n",
      "Jerome:thou shall not pass\n",
      "\n",
      "Jerome:thou shall not pass\n",
      "Jerome:thou shall not pass\n",
      "Jerome:thou shall not pass\n",
      "Jerome:thou shall not pass\n",
      "\n",
      "Jerome:thou shall not pass\n",
      "\n",
      "Jerome:thou shall not pass\n",
      "\n",
      "Jerome:thou shall not pass\n",
      "\n",
      "Jerome:thou shall not pass\n",
      "\n",
      "Jerome:thou shall not pass\n",
      "\n",
      "Jerome:thou shall not pass\n",
      "\n",
      "Jerome:thou shall not pass\n",
      "\n",
      "Jerome:thou shall not pass\n",
      "\n",
      "Jerome:thou shall not pass\n",
      "\n",
      "Jerome:thou shall not pass\n",
      "\n",
      "Jerome:thou shall not pass\n",
      "\n",
      "Jerome:thou shall not pass\n",
      "\n",
      "Jerome:thou shall not pass\n",
      "\n",
      "Jerome:thou shall not pass\n",
      "\n",
      "Jerome:thou shall not pass\n",
      "\n",
      "Jerome:thou shall not pass\n",
      "\n",
      "Jerome:thou shall not pass\n",
      "\n",
      "Jerome:thou shall not pass\n",
      "\n",
      "Jerome:thou shall not pass\n",
      "\n",
      "Jerome:thou shall not pass\n",
      "\n",
      "Jerome:thou shall not pass\n",
      "\n",
      "Jerome:thou shall not pass\n",
      "\n",
      "Jerome:thou shall not pass\n",
      "\n",
      "Jerome:thou shall not pass\n",
      "\n",
      "Jerome:thou shall not pass\n",
      "\n",
      "Jerome:thou shall not pass\n",
      "\n",
      "Jerome:thou shall not pass\n",
      "\n",
      "Jerome:thou shall not pass\n",
      "\n",
      "Jerome:thou shall not pass\n",
      "\n",
      "Jerome:thou shall not pass\n",
      "\n",
      "Jerome:thou shall not pass\n",
      "\n",
      "Jerome:thou shall not pass\n",
      "\n",
      "Jerome:thou shall not pass\n",
      "\n",
      "Jerome:thou shall not pass\n",
      "\n",
      "Jerome:thou shall not pass\n",
      "\n",
      "Jerome:thou shall not pass\n",
      "\n",
      "Jerome:thou shall not pass\n",
      "\n",
      "Jerome:thou shall not pass\n",
      "\n",
      "Jerome:thou shall not pass\n",
      "\n",
      "Jerome:thou shall not pass\n",
      "\n",
      "Jerome:thou shall not pass\n",
      "\n",
      "Jerome:thou shall not pass\n",
      "\n",
      "Jerome:thou shall not pass\n",
      "\n",
      "Jerome:thou shall not pass\n",
      "\n",
      "Jerome:thou shall not pass\n",
      "\n",
      "Jerome:thou shall not pass\n",
      "\n",
      "Jerome:thou shall not pass\n",
      "\n",
      "Jerome:thou shall not pass\n",
      "\n",
      "Jerome:thou shall not pass\n",
      "\n",
      "Jerome:thou shall not pass\n",
      "\n",
      "Jerome:thou shall not pass\n",
      "\n",
      "Jerome:thou shall not pass\n",
      "\n",
      "Jerome:thou shall not pass\n",
      "\n",
      "Jerome:thou shall not pass\n",
      "\n",
      "Jerome:thou shall not pass\n",
      "\n",
      "Jerome:thou shall not pass\n",
      "\n",
      "Jerome:thou shall not pass\n",
      "\n",
      "Jerome:thou shall not pass\n",
      "\n",
      "Jerome:thou shall not pass\n",
      "\n",
      "Jerome:thou shall not pass\n",
      "\n",
      "Jerome:thou shall not pass\n",
      "\n",
      "Jerome:thou shall not pass\n",
      "\n",
      "Jerome:thou shall not pass\n",
      "\n",
      "Jerome:thou shall not pass\n",
      "\n",
      "Jerome:thou shall not pass\n",
      "\n",
      "Jerome:thou shall not pass\n",
      "\n",
      "Jerome:thou shall not pass\n",
      "\n",
      "Jerome:thou shall not pass\n",
      "\n",
      "Jerome:thou shall not pass\n",
      "\n",
      "Jerome:thou shall not pass\n",
      "\n",
      "Jerome:thou shall not pass\n",
      "\n",
      "Jerome:thou shall not pass\n",
      "\n",
      "Jerome:thou shall not pass\n",
      "\n",
      "Jerome:thou shall not pass\n",
      "\n",
      "Jerome:thou shall not pass\n",
      "\n",
      "Jerome:thou shall not pass\n",
      "\n",
      "Jerome:thou shall not pass\n",
      "\n",
      "Jerome:thou shall not pass\n",
      "\n",
      "Jerome:thou shall not pass\n",
      "\n",
      "Jerome:thou shall not pass\n",
      "\n",
      "Jerome:thou shall not pass\n",
      "\n",
      "Jerome:thou shall not pass\n",
      "\n",
      "Jerome:thou shall not pass\n",
      "\n",
      "Jerome:thou shall not pass\n",
      "\n",
      "Jerome:thou shall not pass\n",
      "\n",
      "Jerome:thou shall not pass\n",
      "\n",
      "Jerome:thou shall not\n"
     ]
    }
   ],
   "source": [
    "gpt2.generate(session, prefix=\"Jerome:thou shall not pass\")"
   ]
  }
 ],
 "metadata": {
  "kernelspec": {
   "display_name": "Python 3",
   "language": "python",
   "name": "python3"
  },
  "language_info": {
   "codemirror_mode": {
    "name": "ipython",
    "version": 3
   },
   "file_extension": ".py",
   "mimetype": "text/x-python",
   "name": "python",
   "nbconvert_exporter": "python",
   "pygments_lexer": "ipython3",
   "version": "3.10.9"
  },
  "orig_nbformat": 4,
  "vscode": {
   "interpreter": {
    "hash": "b0fa6594d8f4cbf19f97940f81e996739fb7646882a419484c72d19e05852a7e"
   }
  }
 },
 "nbformat": 4,
 "nbformat_minor": 2
}
